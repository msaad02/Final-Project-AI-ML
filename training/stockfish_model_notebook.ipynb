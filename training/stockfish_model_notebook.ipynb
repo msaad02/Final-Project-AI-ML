{
 "cells": [
  {
   "attachments": {},
   "cell_type": "markdown",
   "metadata": {},
   "source": [
    "## Imports"
   ]
  },
  {
   "cell_type": "code",
   "execution_count": 1,
   "metadata": {},
   "outputs": [],
   "source": [
    "import numpy as np\n",
    "import tensorflow as tf\n",
    "import pandas as pd\n",
    "from tensorflow.python.keras.callbacks import EarlyStopping\n",
    "\n",
    "tf.random.set_seed(0)"
   ]
  },
  {
   "attachments": {},
   "cell_type": "markdown",
   "metadata": {},
   "source": [
    "# Model Architecture\n",
    "\n",
    "CNN"
   ]
  },
  {
   "cell_type": "code",
   "execution_count": 2,
   "metadata": {},
   "outputs": [],
   "source": [
    "# Define the neural network architecture\n",
    "model = tf.keras.Sequential([\n",
    "    tf.keras.layers.Reshape((8, 8, 13), input_shape=(832,)),\n",
    "    tf.keras.layers.Conv2D(32, (3, 3), activation='relu', padding='same'),\n",
    "    tf.keras.layers.BatchNormalization(),\n",
    "    tf.keras.layers.MaxPooling2D((2, 2)),\n",
    "    tf.keras.layers.Conv2D(64, (3, 3), activation='relu', padding='same'),\n",
    "    tf.keras.layers.BatchNormalization(),\n",
    "    tf.keras.layers.MaxPooling2D((2, 2)),\n",
    "    tf.keras.layers.Flatten(),\n",
    "    tf.keras.layers.Dense(128, activation='relu'),\n",
    "    tf.keras.layers.Dropout(0.5),\n",
    "    tf.keras.layers.Dense(64, activation='relu'),\n",
    "    tf.keras.layers.Dense(1, activation='linear')\n",
    "])\n",
    "\n",
    "# Compile the model\n",
    "optimizer = tf.keras.optimizers.Adam(learning_rate=0.0001)  # Try different learning rates\n",
    "model.compile(optimizer=optimizer, loss='MeanSquaredError', metrics=['MeanAbsoluteError'])"
   ]
  },
  {
   "attachments": {},
   "cell_type": "markdown",
   "metadata": {},
   "source": [
    "### Data Loader\n",
    "\n",
    "Only bring in data loader if we get more stockfish data, I doubt we will need it..."
   ]
  },
  {
   "attachments": {},
   "cell_type": "markdown",
   "metadata": {},
   "source": [
    "# Fitting Model\n",
    "\n",
    "Need to rerun the processedDataset, such that the evaluations are correct."
   ]
  },
  {
   "cell_type": "code",
   "execution_count": 3,
   "metadata": {},
   "outputs": [],
   "source": [
    "df = pd.DataFrame(\n",
    "    np.load(\"../data/createdData/npyFiles/preprocessedChunk0.npy\"),\n",
    "    np.load(\"../data/createdData/npyFiles/stockFishEvalsChunk0.npy\")\n",
    ").sample(frac = 1)\n",
    "\n",
    "X = df.iloc[:, :-1].to_numpy().astype(np.int8)\n",
    "y = df.iloc[:, -1].to_numpy().astype(np.int16)"
   ]
  },
  {
   "cell_type": "code",
   "execution_count": 4,
   "metadata": {},
   "outputs": [
    {
     "name": "stdout",
     "output_type": "stream",
     "text": [
      "Epoch 1/25\n",
      "12500/12500 [==============================] - 79s 6ms/step - loss: 115356.5469 - mean_absolute_error: 189.6948 - val_loss: 102435.2734 - val_mean_absolute_error: 182.8054\n",
      "Epoch 2/25\n",
      "12500/12500 [==============================] - 75s 6ms/step - loss: 98379.8359 - mean_absolute_error: 178.5383 - val_loss: 94497.1328 - val_mean_absolute_error: 172.2941\n",
      "Epoch 3/25\n",
      "12500/12500 [==============================] - 74s 6ms/step - loss: 90465.3203 - mean_absolute_error: 173.0319 - val_loss: 90607.6250 - val_mean_absolute_error: 171.0036\n",
      "Epoch 4/25\n",
      "12500/12500 [==============================] - 74s 6ms/step - loss: 84997.6250 - mean_absolute_error: 169.0948 - val_loss: 85018.9844 - val_mean_absolute_error: 166.1898\n",
      "Epoch 5/25\n",
      "12500/12500 [==============================] - 74s 6ms/step - loss: 81132.8984 - mean_absolute_error: 166.1770 - val_loss: 83297.6406 - val_mean_absolute_error: 166.6932\n",
      "Epoch 6/25\n",
      "12500/12500 [==============================] - 74s 6ms/step - loss: 78126.0391 - mean_absolute_error: 164.0583 - val_loss: 85850.1562 - val_mean_absolute_error: 167.6199\n",
      "Epoch 7/25\n",
      "12500/12500 [==============================] - 69s 6ms/step - loss: 75558.9609 - mean_absolute_error: 161.9989 - val_loss: 81436.1953 - val_mean_absolute_error: 163.9188\n",
      "Epoch 8/25\n",
      "12500/12500 [==============================] - 67s 5ms/step - loss: 73577.4141 - mean_absolute_error: 160.4571 - val_loss: 81982.8906 - val_mean_absolute_error: 165.3958\n",
      "Epoch 9/25\n",
      "12500/12500 [==============================] - 67s 5ms/step - loss: 71978.8047 - mean_absolute_error: 159.1467 - val_loss: 77239.9141 - val_mean_absolute_error: 163.1179\n",
      "Epoch 10/25\n",
      "12500/12500 [==============================] - 67s 5ms/step - loss: 70500.0938 - mean_absolute_error: 158.0399 - val_loss: 79017.6484 - val_mean_absolute_error: 163.1770\n",
      "Epoch 11/25\n",
      "12500/12500 [==============================] - 67s 5ms/step - loss: 69293.6328 - mean_absolute_error: 157.0156 - val_loss: 76636.0703 - val_mean_absolute_error: 160.3058\n",
      "Epoch 12/25\n",
      "12500/12500 [==============================] - 69s 6ms/step - loss: 68293.1328 - mean_absolute_error: 156.1288 - val_loss: 76807.2578 - val_mean_absolute_error: 158.8882\n",
      "Epoch 13/25\n",
      "12500/12500 [==============================] - 69s 6ms/step - loss: 67192.3281 - mean_absolute_error: 155.2534 - val_loss: 77155.1406 - val_mean_absolute_error: 160.6406\n",
      "Epoch 14/25\n",
      "12500/12500 [==============================] - 72s 6ms/step - loss: 66431.9297 - mean_absolute_error: 154.6723 - val_loss: 75638.8281 - val_mean_absolute_error: 159.4997\n",
      "Epoch 15/25\n",
      "12500/12500 [==============================] - 74s 6ms/step - loss: 65635.6406 - mean_absolute_error: 153.9788 - val_loss: 75255.2109 - val_mean_absolute_error: 157.6570\n",
      "Epoch 16/25\n",
      "12500/12500 [==============================] - 73s 6ms/step - loss: 65079.5430 - mean_absolute_error: 153.4368 - val_loss: 74665.9297 - val_mean_absolute_error: 157.9964\n",
      "Epoch 17/25\n",
      "12500/12500 [==============================] - 73s 6ms/step - loss: 64228.7148 - mean_absolute_error: 152.7868 - val_loss: 75062.3359 - val_mean_absolute_error: 158.2177\n",
      "Epoch 18/25\n",
      "12500/12500 [==============================] - 73s 6ms/step - loss: 63765.3516 - mean_absolute_error: 152.3734 - val_loss: 74342.7891 - val_mean_absolute_error: 158.6287\n",
      "Epoch 19/25\n",
      "12500/12500 [==============================] - 73s 6ms/step - loss: 63093.3516 - mean_absolute_error: 151.8135 - val_loss: 72913.4922 - val_mean_absolute_error: 156.9636\n",
      "Epoch 20/25\n",
      "12500/12500 [==============================] - 70s 6ms/step - loss: 62574.5352 - mean_absolute_error: 151.3273 - val_loss: 75463.8438 - val_mean_absolute_error: 158.2015\n",
      "Epoch 21/25\n",
      "12500/12500 [==============================] - 68s 5ms/step - loss: 62102.3984 - mean_absolute_error: 150.9196 - val_loss: 75438.1016 - val_mean_absolute_error: 158.8966\n",
      "Epoch 22/25\n",
      "12500/12500 [==============================] - 67s 5ms/step - loss: 61683.9102 - mean_absolute_error: 150.5205 - val_loss: 72459.7812 - val_mean_absolute_error: 157.3243\n",
      "Epoch 23/25\n",
      "12500/12500 [==============================] - 69s 5ms/step - loss: 61163.9844 - mean_absolute_error: 150.1752 - val_loss: 75434.4062 - val_mean_absolute_error: 158.7346\n",
      "Epoch 24/25\n",
      "12500/12500 [==============================] - 72s 6ms/step - loss: 60804.6992 - mean_absolute_error: 149.7617 - val_loss: 74619.5000 - val_mean_absolute_error: 158.6898\n",
      "Epoch 25/25\n",
      "12500/12500 [==============================] - 71s 6ms/step - loss: 60260.5820 - mean_absolute_error: 149.2885 - val_loss: 74159.7734 - val_mean_absolute_error: 158.9671\n"
     ]
    },
    {
     "name": "stderr",
     "output_type": "stream",
     "text": [
      "WARNING:absl:Found untraced functions such as _jit_compiled_convolution_op, _jit_compiled_convolution_op while saving (showing 2 of 2). These functions will not be directly callable after loading.\n"
     ]
    },
    {
     "name": "stdout",
     "output_type": "stream",
     "text": [
      "INFO:tensorflow:Assets written to: ../saved_models/stockfish_1mil_25epoch_64batch_0.001learningRate\\assets\n"
     ]
    },
    {
     "name": "stderr",
     "output_type": "stream",
     "text": [
      "INFO:tensorflow:Assets written to: ../saved_models/stockfish_1mil_25epoch_64batch_0.001learningRate\\assets\n"
     ]
    }
   ],
   "source": [
    "early_stopping = EarlyStopping(monitor='val_loss', patience=5, restore_best_weights=True)\n",
    "\n",
    "history = model.fit(X, y, epochs=25, batch_size = 256, validation_split = 0.2, callbacks=[early_stopping])\n",
    "\n",
    "model.save(\"../saved_models/stockfish_1mil_25epoch_64batch_0.001learningRate\")"
   ]
  }
 ],
 "metadata": {
  "kernelspec": {
   "display_name": "tf",
   "language": "python",
   "name": "python3"
  },
  "language_info": {
   "codemirror_mode": {
    "name": "ipython",
    "version": 3
   },
   "file_extension": ".py",
   "mimetype": "text/x-python",
   "name": "python",
   "nbconvert_exporter": "python",
   "pygments_lexer": "ipython3",
   "version": "3.9.16"
  },
  "orig_nbformat": 4
 },
 "nbformat": 4,
 "nbformat_minor": 2
}
