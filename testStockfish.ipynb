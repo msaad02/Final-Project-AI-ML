{
 "cells": [
  {
   "cell_type": "code",
   "execution_count": 1,
   "metadata": {},
   "outputs": [],
   "source": [
    "from stockfish import Stockfish\n",
    "import pandas as pd\n",
    "from statistics import mean\n",
    "import numpy as np\n",
    "\n",
    "stockfish_path = \"C:/Users/Matthew Saad/Documents/Stockfish/stockfish_15.1_win_x64_avx2/stockfish-windows-2022-x86-64-avx2.exe\"\n",
    "\n",
    "stockfish = Stockfish(path = stockfish_path, depth=6, parameters={\"Threads\": 7})\n",
    "stockfish.set_depth(6)\n",
    "\n",
    "# Get fens (+ evals to compare)\n",
    "df = pd.read_csv(\"data/kaggleDataset/chessData.csv\", nrows = 1000)"
   ]
  },
  {
   "cell_type": "code",
   "execution_count": 2,
   "metadata": {},
   "outputs": [],
   "source": [
    "evals = []\n",
    "for fen in df.FEN:\n",
    "    stockfish.set_fen_position(fen)\n",
    "    eval = stockfish.get_evaluation()\n",
    "    \n",
    "    if eval[\"type\"] == \"mate\":\n",
    "        eval[\"value\"] = 2_000\n",
    "    else:\n",
    "        eval[\"value\"] = max(min(eval[\"value\"], 1500), -1500)\n",
    "        \n",
    "    evals.append(eval)"
   ]
  },
  {
   "cell_type": "code",
   "execution_count": 3,
   "metadata": {},
   "outputs": [],
   "source": [
    "values = [eval['value'] for eval in evals]"
   ]
  },
  {
   "cell_type": "code",
   "execution_count": 4,
   "metadata": {},
   "outputs": [],
   "source": [
    "def preprocess_scores(eval):\n",
    "    score_dict = {\n",
    "        '#+': 2000,\n",
    "        '#-': -2000\n",
    "    }\n",
    "\n",
    "    try:\n",
    "        eval = int(eval)\n",
    "        eval = max(min(eval, 1500), -1500)\n",
    "    except ValueError:\n",
    "        eval = score_dict.get(eval[0:2], 0)\n",
    "\n",
    "    return eval\n",
    "\n",
    "evals = df.Evaluation.apply(preprocess_scores)"
   ]
  },
  {
   "cell_type": "code",
   "execution_count": 16,
   "metadata": {},
   "outputs": [
    {
     "ename": "NameError",
     "evalue": "name 'np' is not defined",
     "output_type": "error",
     "traceback": [
      "\u001b[1;31m---------------------------------------------------------------------------\u001b[0m",
      "\u001b[1;31mNameError\u001b[0m                                 Traceback (most recent call last)",
      "Cell \u001b[1;32mIn[16], line 1\u001b[0m\n\u001b[1;32m----> 1\u001b[0m np\u001b[39m.\u001b[39masarray(values)\n",
      "\u001b[1;31mNameError\u001b[0m: name 'np' is not defined"
     ]
    }
   ],
   "source": [
    "np.asarray(values)"
   ]
  }
 ],
 "metadata": {
  "kernelspec": {
   "display_name": "tf",
   "language": "python",
   "name": "python3"
  },
  "language_info": {
   "codemirror_mode": {
    "name": "ipython",
    "version": 3
   },
   "file_extension": ".py",
   "mimetype": "text/x-python",
   "name": "python",
   "nbconvert_exporter": "python",
   "pygments_lexer": "ipython3",
   "version": "3.10.10"
  },
  "orig_nbformat": 4
 },
 "nbformat": 4,
 "nbformat_minor": 2
}
