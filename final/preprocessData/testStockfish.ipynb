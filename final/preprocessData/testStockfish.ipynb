{
 "cells": [
  {
   "cell_type": "code",
   "execution_count": 2,
   "metadata": {},
   "outputs": [],
   "source": [
    "from stockfish import Stockfish\n",
    "import pandas as pd\n",
    "import numpy as np\n",
    "\n",
    "stockfish_path = \"C:/Users/Matthew Saad/Documents/Stockfish/stockfish_15.1_win_x64_avx2/stockfish-windows-2022-x86-64-avx2.exe\"\n",
    "\n",
    "stockfish = Stockfish(path = stockfish_path, depth=6, parameters={\"Threads\": 8})\n",
    "\n",
    "# Get fens (+ evals to compare)\n",
    "df = pd.read_csv(\"../../data/kaggleDataset/chessData.csv\", nrows = 1_000_000)"
   ]
  },
  {
   "cell_type": "code",
   "execution_count": 2,
   "metadata": {},
   "outputs": [],
   "source": [
    "def get_eval_value(fen):\n",
    "    stockfish.set_fen_position(fen)\n",
    "    eval = stockfish.get_evaluation()\n",
    "\n",
    "    if eval[\"type\"] == \"mate\":\n",
    "        if eval[\"value\"] == 1:\n",
    "            value = 3_000\n",
    "        elif 2 <= eval[\"value\"] < 10:\n",
    "            value = 2_900 - (eval[\"value\"] - 2) * 100\n",
    "        else:\n",
    "            value = 2_000\n",
    "    else:\n",
    "        value = max(min(eval[\"value\"], 1900), -1900)\n",
    "    \n",
    "    return np.int16(value)"
   ]
  },
  {
   "cell_type": "code",
   "execution_count": null,
   "metadata": {},
   "outputs": [],
   "source": [
    "def preprocess_scores(eval):\n",
    "    score_dict = {\n",
    "        '#+': 2000,\n",
    "        '#-': -2000\n",
    "    }\n",
    "\n",
    "    try:\n",
    "        eval = int(eval)\n",
    "        eval = max(min(eval, 1500), -1500)\n",
    "    except ValueError:\n",
    "        eval = score_dict.get(eval[0:2], 0)\n",
    "\n",
    "    return eval\n"
   ]
  },
  {
   "cell_type": "code",
   "execution_count": 3,
   "metadata": {},
   "outputs": [],
   "source": [
    "evals = df.FEN.apply(get_eval_value)\n",
    "\n",
    "np.save(\"data/createdData/npyFiles/stockFishEvalsChunk0\", np.asarray(evals))"
   ]
  },
  {
   "cell_type": "code",
   "execution_count": 7,
   "metadata": {},
   "outputs": [],
   "source": [
    "data = np.load(\"../../data/createdData/npyFiles/stockFishEvalsChunk0.npy\")"
   ]
  },
  {
   "cell_type": "code",
   "execution_count": 11,
   "metadata": {},
   "outputs": [
    {
     "data": {
      "text/plain": [
       "1146"
      ]
     },
     "execution_count": 11,
     "metadata": {},
     "output_type": "execute_result"
    }
   ],
   "source": [
    "len(data[data > 2_000])"
   ]
  }
 ],
 "metadata": {
  "kernelspec": {
   "display_name": "tf",
   "language": "python",
   "name": "python3"
  },
  "language_info": {
   "codemirror_mode": {
    "name": "ipython",
    "version": 3
   },
   "file_extension": ".py",
   "mimetype": "text/x-python",
   "name": "python",
   "nbconvert_exporter": "python",
   "pygments_lexer": "ipython3",
   "version": "3.11.3"
  },
  "orig_nbformat": 4
 },
 "nbformat": 4,
 "nbformat_minor": 2
}
