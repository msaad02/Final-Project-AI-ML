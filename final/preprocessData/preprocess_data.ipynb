{
 "cells": [
  {
   "cell_type": "code",
   "execution_count": 1,
   "metadata": {},
   "outputs": [],
   "source": [
    "import pandas as pd\n",
    "import utils\n",
    "import numpy as np\n",
    "\n",
    "# batch_number = 1\n",
    "# nrows = 10_000\n",
    "\n",
    "# df = pd.read_csv(\"../data/kaggleDataset/chessData.csv\", nrows = nrows, skiprows = batch_number*nrows + 1,  names = ['FEN', 'Evaluation'], dtype={'FEN':str, 'Evaluation':str})"
   ]
  },
  {
   "cell_type": "code",
   "execution_count": 2,
   "metadata": {},
   "outputs": [],
   "source": [
    "def processDF(df):\n",
    "    fen_strings = df.FEN\n",
    "    evaluations = df.Evaluation.apply(utils.preprocess_scores)\n",
    "\n",
    "    # Vectorize the FEN strings\n",
    "    vectorized_data = np.vstack([utils.vectorize(fen) for fen in fen_strings])\n",
    "\n",
    "    # Combine the vectorized data with the evaluations\n",
    "    combined_data = np.hstack((vectorized_data, np.array(evaluations).reshape(-1, 1)))\n",
    "\n",
    "    # Define the column names\n",
    "    column_names = [i for i in range(832)] + [\"Evaluation\"]\n",
    "\n",
    "    # Create the DataFrame\n",
    "    df = pd.DataFrame(combined_data, columns=column_names, dtype=np.int16)\n",
    "    \n",
    "    return df"
   ]
  },
  {
   "attachments": {},
   "cell_type": "markdown",
   "metadata": {},
   "source": [
    "# Loop Through all to create preprocessed dataset\n",
    "\n",
    "22 seconds to process each, and about 1 minute to add to csv. Call it 1.5 min for each\n",
    "\n",
    "1.5 * 13 = 20 min ETA\n",
    "\n",
    "23 min actual for me"
   ]
  },
  {
   "cell_type": "code",
   "execution_count": 3,
   "metadata": {},
   "outputs": [
    {
     "name": "stdout",
     "output_type": "stream",
     "text": [
      "0\n",
      "1\n",
      "2\n",
      "3\n",
      "4\n",
      "5\n",
      "6\n",
      "7\n",
      "8\n",
      "9\n",
      "10\n",
      "11\n",
      "12\n"
     ]
    }
   ],
   "source": [
    "for i in np.arange(13):\n",
    "    batch_number = i\n",
    "    nrows = 1_000_000\n",
    "\n",
    "    print(batch_number)\n",
    "    \n",
    "    df = pd.read_csv(\"../../data/kaggleDataset/chessData.csv\", nrows = nrows, skiprows = batch_number*nrows + 1,  names = ['FEN', 'Evaluation'], dtype={'FEN':str, 'Evaluation':str})\n",
    "\n",
    "    df_processed = processDF(df)\n",
    "\n",
    "    np.save(\"../../data/createdData/npyFiles/preprocessedChunk\" + str(batch_number), df_processed.to_numpy())"
   ]
  },
  {
   "attachments": {},
   "cell_type": "markdown",
   "metadata": {},
   "source": [
    "### Testing to see if it worekd\n",
    "\n",
    "6 million rows takes ~5gb in int8. FAR more in int64"
   ]
  },
  {
   "cell_type": "code",
   "execution_count": 6,
   "metadata": {},
   "outputs": [
    {
     "name": "stdout",
     "output_type": "stream",
     "text": [
      "(1000000, 833)\n"
     ]
    }
   ],
   "source": [
    "import numpy as np\n",
    "\n",
    "data = np.load(\"../data/createdData/npyFiles/preprocessedChunk0.npy\")\n",
    "\n",
    "print(data.shape)"
   ]
  }
 ],
 "metadata": {
  "kernelspec": {
   "display_name": "Python 3",
   "language": "python",
   "name": "python3"
  },
  "language_info": {
   "codemirror_mode": {
    "name": "ipython",
    "version": 3
   },
   "file_extension": ".py",
   "mimetype": "text/x-python",
   "name": "python",
   "nbconvert_exporter": "python",
   "pygments_lexer": "ipython3",
   "version": "3.11.3"
  },
  "orig_nbformat": 4
 },
 "nbformat": 4,
 "nbformat_minor": 2
}
