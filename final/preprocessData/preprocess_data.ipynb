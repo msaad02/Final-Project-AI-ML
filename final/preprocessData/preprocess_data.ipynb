{
 "cells": [
  {
   "cell_type": "code",
   "execution_count": 1,
   "metadata": {},
   "outputs": [],
   "source": [
    "import pandas as pd\n",
    "import utils\n",
    "import numpy as np"
   ]
  },
  {
   "cell_type": "code",
   "execution_count": 2,
   "metadata": {},
   "outputs": [],
   "source": [
    "df = pd.concat([\n",
    "    pd.read_csv(\"../../data/kaggleDataset/chessData.csv\", encoding='utf-8-sig'),\n",
    "    pd.read_csv(\"../../data/kaggleDataset/random_evals.csv\", encoding='utf-8-sig'),\n",
    "    pd.read_csv(\"../../data/kaggleDataset/tactic_evals.csv\", usecols = (\"FEN\",\"Evaluation\"), encoding='utf-8-sig')\n",
    "]).sample(frac = 1)\n",
    "df = df[~df['Evaluation'].astype(str).str.contains('\\ufeff')]"
   ]
  },
  {
   "cell_type": "code",
   "execution_count": 4,
   "metadata": {},
   "outputs": [],
   "source": [
    "pd.DataFrame(\n",
    "    {\"OLD\": df.Evaluation[0:100000],\n",
    "    \"NEW\": df.Evaluation[0:100000].apply(utils.preprocess_scores)}\n",
    ")"
   ]
  },
  {
   "attachments": {},
   "cell_type": "markdown",
   "metadata": {},
   "source": [
    "# Loop Through all to create preprocessed dataset\n",
    "\n",
    "5 min to run"
   ]
  },
  {
   "cell_type": "code",
   "execution_count": 4,
   "metadata": {},
   "outputs": [
    {
     "name": "stdout",
     "output_type": "stream",
     "text": [
      "0\n",
      "1\n",
      "2\n",
      "3\n",
      "4\n",
      "5\n",
      "6\n",
      "7\n",
      "8\n",
      "9\n",
      "10\n",
      "11\n",
      "12\n",
      "13\n",
      "14\n",
      "15\n"
     ]
    }
   ],
   "source": [
    "batch_size = 1_000_000\n",
    "\n",
    "for i in np.arange(len(df)//batch_size):\n",
    "    print(i)\n",
    "    \n",
    "    df_processed = utils.processDF(df[batch_size*i:batch_size*i+batch_size])\n",
    "    \n",
    "    np.save(\"../../data/npyV2/mixedDataChunk\" + str(i), df_processed.to_numpy())"
   ]
  },
  {
   "attachments": {},
   "cell_type": "markdown",
   "metadata": {},
   "source": [
    "### Testing to see if it worekd\n",
    "\n",
    "6 million rows takes ~5gb in int8. FAR more in int64"
   ]
  },
  {
   "cell_type": "code",
   "execution_count": 2,
   "metadata": {},
   "outputs": [
    {
     "name": "stdout",
     "output_type": "stream",
     "text": [
      "(1000000, 833)\n"
     ]
    }
   ],
   "source": [
    "import numpy as np\n",
    "\n",
    "data = np.load(\"../../data/npyV1/mixedDataChunk15.npy\")\n",
    "\n",
    "print(data.shape)"
   ]
  }
 ],
 "metadata": {
  "kernelspec": {
   "display_name": "Python 3",
   "language": "python",
   "name": "python3"
  },
  "language_info": {
   "codemirror_mode": {
    "name": "ipython",
    "version": 3
   },
   "file_extension": ".py",
   "mimetype": "text/x-python",
   "name": "python",
   "nbconvert_exporter": "python",
   "pygments_lexer": "ipython3",
   "version": "3.9.16"
  },
  "orig_nbformat": 4
 },
 "nbformat": 4,
 "nbformat_minor": 2
}
