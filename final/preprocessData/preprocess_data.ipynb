{
 "cells": [
  {
   "cell_type": "code",
   "execution_count": 1,
   "metadata": {},
   "outputs": [],
   "source": [
    "import pandas as pd\n",
    "import utils\n",
    "import numpy as np"
   ]
  },
  {
   "cell_type": "code",
   "execution_count": 2,
   "metadata": {},
   "outputs": [],
   "source": [
    "df = pd.concat([\n",
    "    pd.read_csv(\"../../data/kaggleDataset/chessData.csv\", encoding='utf-8-sig'),\n",
    "    pd.read_csv(\"../../data/kaggleDataset/random_evals.csv\", encoding='utf-8-sig'),\n",
    "    pd.read_csv(\"../../data/kaggleDataset/tactic_evals.csv\", usecols = (\"FEN\",\"Evaluation\"), encoding='utf-8-sig')\n",
    "]).sample(frac = 1)\n",
    "df = df[~df['Evaluation'].astype(str).str.contains('\\ufeff')]"
   ]
  },
  {
   "cell_type": "code",
   "execution_count": 16,
   "metadata": {},
   "outputs": [],
   "source": [
    "newEvalsDF = pd.DataFrame(\n",
    "    {\"OLD\": df.Evaluation[0:1000000],\n",
    "    \"NEW\": df.Evaluation[0:1000000].apply(utils.preprocess_scores)}\n",
    ")"
   ]
  },
  {
   "attachments": {},
   "cell_type": "markdown",
   "metadata": {},
   "source": [
    "# Loop Through all to create preprocessed dataset\n",
    "\n",
    "22 seconds to process each, and about 1 minute to add to csv. Call it 1.5 min for each\n",
    "\n",
    "1.5 * 13 = 20 min ETA\n",
    "\n",
    "23 min actual for me"
   ]
  },
  {
   "cell_type": "code",
   "execution_count": 3,
   "metadata": {},
   "outputs": [
    {
     "name": "stdout",
     "output_type": "stream",
     "text": [
      "0\n",
      "1\n",
      "2\n"
     ]
    },
    {
     "ename": "KeyboardInterrupt",
     "evalue": "",
     "output_type": "error",
     "traceback": [
      "\u001b[1;31m---------------------------------------------------------------------------\u001b[0m",
      "\u001b[1;31mKeyboardInterrupt\u001b[0m                         Traceback (most recent call last)",
      "Cell \u001b[1;32mIn[3], line 6\u001b[0m\n\u001b[0;32m      3\u001b[0m \u001b[39mfor\u001b[39;00m i \u001b[39min\u001b[39;00m np\u001b[39m.\u001b[39marange(\u001b[39mlen\u001b[39m(df)\u001b[39m/\u001b[39m\u001b[39m/\u001b[39mbatch_size):\n\u001b[0;32m      4\u001b[0m     \u001b[39mprint\u001b[39m(i)\n\u001b[1;32m----> 6\u001b[0m     df_processed \u001b[39m=\u001b[39m utils\u001b[39m.\u001b[39;49mprocessDF(df[batch_size\u001b[39m*\u001b[39;49mi:batch_size\u001b[39m*\u001b[39;49mi\u001b[39m+\u001b[39;49mbatch_size])\n\u001b[0;32m      8\u001b[0m     np\u001b[39m.\u001b[39msave(\u001b[39m\"\u001b[39m\u001b[39m../../data/createdData/KaggleNPY/mixedDataChunk\u001b[39m\u001b[39m\"\u001b[39m \u001b[39m+\u001b[39m \u001b[39mstr\u001b[39m(i), df_processed\u001b[39m.\u001b[39mto_numpy())\n",
      "File \u001b[1;32mc:\\Users\\Matthew Saad\\OneDrive\\College\\Spring 2023\\AI & ML\\Final-Project-AI-ML\\final\\preprocessData\\utils.py:84\u001b[0m, in \u001b[0;36mprocessDF\u001b[1;34m(df)\u001b[0m\n\u001b[0;32m     81\u001b[0m evaluations \u001b[39m=\u001b[39m df\u001b[39m.\u001b[39mEvaluation\u001b[39m.\u001b[39mapply(preprocess_scores)\u001b[39m.\u001b[39mastype(np\u001b[39m.\u001b[39mint16)\n\u001b[0;32m     83\u001b[0m \u001b[39m# Vectorize the FEN strings\u001b[39;00m\n\u001b[1;32m---> 84\u001b[0m vectorized_data \u001b[39m=\u001b[39m np\u001b[39m.\u001b[39mvstack([vectorize(fen) \u001b[39mfor\u001b[39;00m fen \u001b[39min\u001b[39;00m fen_strings])\n\u001b[0;32m     86\u001b[0m \u001b[39m# Combine the vectorized data with the evaluations\u001b[39;00m\n\u001b[0;32m     87\u001b[0m combined_data \u001b[39m=\u001b[39m np\u001b[39m.\u001b[39mhstack((vectorized_data, np\u001b[39m.\u001b[39marray(evaluations)\u001b[39m.\u001b[39mreshape(\u001b[39m-\u001b[39m\u001b[39m1\u001b[39m, \u001b[39m1\u001b[39m)))\n",
      "File \u001b[1;32mc:\\Users\\Matthew Saad\\OneDrive\\College\\Spring 2023\\AI & ML\\Final-Project-AI-ML\\final\\preprocessData\\utils.py:84\u001b[0m, in \u001b[0;36m<listcomp>\u001b[1;34m(.0)\u001b[0m\n\u001b[0;32m     81\u001b[0m evaluations \u001b[39m=\u001b[39m df\u001b[39m.\u001b[39mEvaluation\u001b[39m.\u001b[39mapply(preprocess_scores)\u001b[39m.\u001b[39mastype(np\u001b[39m.\u001b[39mint16)\n\u001b[0;32m     83\u001b[0m \u001b[39m# Vectorize the FEN strings\u001b[39;00m\n\u001b[1;32m---> 84\u001b[0m vectorized_data \u001b[39m=\u001b[39m np\u001b[39m.\u001b[39mvstack([vectorize(fen) \u001b[39mfor\u001b[39;00m fen \u001b[39min\u001b[39;00m fen_strings])\n\u001b[0;32m     86\u001b[0m \u001b[39m# Combine the vectorized data with the evaluations\u001b[39;00m\n\u001b[0;32m     87\u001b[0m combined_data \u001b[39m=\u001b[39m np\u001b[39m.\u001b[39mhstack((vectorized_data, np\u001b[39m.\u001b[39marray(evaluations)\u001b[39m.\u001b[39mreshape(\u001b[39m-\u001b[39m\u001b[39m1\u001b[39m, \u001b[39m1\u001b[39m)))\n",
      "File \u001b[1;32mc:\\Users\\Matthew Saad\\OneDrive\\College\\Spring 2023\\AI & ML\\Final-Project-AI-ML\\final\\preprocessData\\utils.py:76\u001b[0m, in \u001b[0;36mvectorize\u001b[1;34m(fen)\u001b[0m\n\u001b[0;32m     73\u001b[0m \u001b[39mif\u001b[39;00m passant \u001b[39m!=\u001b[39m \u001b[39m'\u001b[39m\u001b[39m-\u001b[39m\u001b[39m'\u001b[39m:\n\u001b[0;32m     74\u001b[0m     bit_vector[\u001b[39m0\u001b[39m,  \u001b[39m5\u001b[39m \u001b[39mif\u001b[39;00m (\u001b[39mint\u001b[39m(passant[\u001b[39m1\u001b[39m])\u001b[39m-\u001b[39m\u001b[39m1\u001b[39m \u001b[39m==\u001b[39m \u001b[39m3\u001b[39m) \u001b[39melse\u001b[39;00m \u001b[39m2\u001b[39m , \u001b[39mord\u001b[39m(passant[\u001b[39m0\u001b[39m]) \u001b[39m-\u001b[39m \u001b[39m97\u001b[39m,] \u001b[39m=\u001b[39m \u001b[39m1\u001b[39m\n\u001b[1;32m---> 76\u001b[0m \u001b[39mreturn\u001b[39;00m bit_vector\u001b[39m.\u001b[39;49mflatten()\n",
      "\u001b[1;31mKeyboardInterrupt\u001b[0m: "
     ]
    }
   ],
   "source": [
    "batch_size = 1_000_000\n",
    "\n",
    "for i in np.arange(len(df)//batch_size):\n",
    "    print(i)\n",
    "    \n",
    "    df_processed = utils.processDF(df[batch_size*i:batch_size*i+batch_size])\n",
    "\n",
    "    np.save(\"../../data/createdData/KaggleNPY/mixedDataChunk\" + str(i), df_processed.to_numpy())"
   ]
  },
  {
   "attachments": {},
   "cell_type": "markdown",
   "metadata": {},
   "source": [
    "### Testing to see if it worekd\n",
    "\n",
    "6 million rows takes ~5gb in int8. FAR more in int64"
   ]
  },
  {
   "cell_type": "code",
   "execution_count": 3,
   "metadata": {},
   "outputs": [
    {
     "name": "stdout",
     "output_type": "stream",
     "text": [
      "(1000000, 833)\n"
     ]
    }
   ],
   "source": [
    "import numpy as np\n",
    "\n",
    "data = np.load(\"../../data/createdData/npyFiles/preprocessedChunk0.npy\")\n",
    "\n",
    "print(data.shape)"
   ]
  }
 ],
 "metadata": {
  "kernelspec": {
   "display_name": "Python 3",
   "language": "python",
   "name": "python3"
  },
  "language_info": {
   "codemirror_mode": {
    "name": "ipython",
    "version": 3
   },
   "file_extension": ".py",
   "mimetype": "text/x-python",
   "name": "python",
   "nbconvert_exporter": "python",
   "pygments_lexer": "ipython3",
   "version": "3.9.16"
  },
  "orig_nbformat": 4
 },
 "nbformat": 4,
 "nbformat_minor": 2
}
