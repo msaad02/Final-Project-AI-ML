{
 "cells": [
  {
   "attachments": {},
   "cell_type": "markdown",
   "metadata": {},
   "source": [
    "## Imports"
   ]
  },
  {
   "cell_type": "code",
   "execution_count": 1,
   "metadata": {},
   "outputs": [],
   "source": [
    "import numpy as np\n",
    "import tensorflow as tf\n",
    "import pandas as pd\n",
    "from tensorflow.python.keras.callbacks import EarlyStopping"
   ]
  },
  {
   "attachments": {},
   "cell_type": "markdown",
   "metadata": {},
   "source": [
    "# training.py\n",
    "\n",
    "Contains code from relevant file"
   ]
  },
  {
   "cell_type": "code",
   "execution_count": 2,
   "metadata": {},
   "outputs": [],
   "source": [
    "# Define the neural network architecture\n",
    "model = tf.keras.Sequential([\n",
    "    tf.keras.layers.Reshape((8, 8, 13), input_shape=(832,)),\n",
    "    tf.keras.layers.Conv2D(32, (3, 3), activation='relu', padding='same'),\n",
    "    tf.keras.layers.BatchNormalization(),\n",
    "    tf.keras.layers.MaxPooling2D((2, 2)),\n",
    "    tf.keras.layers.Conv2D(64, (3, 3), activation='relu', padding='same'),\n",
    "    tf.keras.layers.BatchNormalization(),\n",
    "    tf.keras.layers.MaxPooling2D((2, 2)),\n",
    "    tf.keras.layers.Flatten(),\n",
    "    tf.keras.layers.Dense(128, activation='relu'),\n",
    "    tf.keras.layers.Dropout(0.5),\n",
    "    tf.keras.layers.Dense(64, activation='relu'),\n",
    "    tf.keras.layers.Dense(1, activation='linear')\n",
    "])\n",
    "\n",
    "# Compile the model\n",
    "optimizer = tf.keras.optimizers.Adam(learning_rate=0.0001)  # Try different learning rates\n",
    "model.compile(optimizer=optimizer, loss='MeanSquaredError', metrics=['MeanAbsoluteError'])"
   ]
  },
  {
   "attachments": {},
   "cell_type": "markdown",
   "metadata": {},
   "source": [
    "# Data Loader\n",
    "\n",
    "So we can use big dataset"
   ]
  },
  {
   "cell_type": "code",
   "execution_count": 2,
   "metadata": {},
   "outputs": [],
   "source": [
    "class DataSequence(tf.keras.utils.Sequence):\n",
    "    \n",
    "    def __init__(self, files, batch_size):\n",
    "        self.files = files\n",
    "        self.batch_size = batch_size\n",
    "        self.file_lengths = [len(np.load(f)) for f in files]\n",
    "        self.total_length = sum(self.file_lengths)\n",
    "        self.cumulative_lengths = np.cumsum([0] + self.file_lengths)\n",
    "        self.file_cache = {}\n",
    "\n",
    "    def __len__(self):\n",
    "        return int(np.ceil(self.total_length) / self.batch_size)\n",
    "    \n",
    "    def __getitem__(self, idx):\n",
    "        global_start = idx * self.batch_size\n",
    "        global_end = global_start + self.batch_size\n",
    "\n",
    "        for i, (start, end) in enumerate(zip(self.cumulative_lengths[:-1], self.cumulative_lengths[1:])):\n",
    "            if global_start >= start and global_end <= end:\n",
    "                local_start = global_start - start\n",
    "                local_end = local_start + self.batch_size\n",
    "\n",
    "                # Load the data from the cache if available, otherwise load from disk\n",
    "                if i not in self.file_cache:\n",
    "                    self.file_cache[i] = np.load(self.files[i])\n",
    "\n",
    "                data = self.file_cache[i][local_start:local_end]\n",
    "                break\n",
    "\n",
    "        df = pd.DataFrame(data).sample(frac=1)\n",
    "        x = df.iloc[:, :-1].to_numpy().astype(np.int8)\n",
    "        y = df.iloc[:, -1].to_numpy()\n",
    "\n",
    "        return (x, y)"
   ]
  },
  {
   "attachments": {},
   "cell_type": "markdown",
   "metadata": {},
   "source": [
    "### Fitting Model\n",
    "\n",
    "Need to rerun the processedDataset, such that the evaluations are correct."
   ]
  },
  {
   "cell_type": "code",
   "execution_count": 3,
   "metadata": {},
   "outputs": [],
   "source": [
    "files = ['../data/createdData/npyFiles/preprocessedChunk' + str(num) +'.npy' for num in np.arange(12)]\n",
    "\n",
    "# Make the DataSequence object to pass data to model\n",
    "data = DataSequence(files, batch_size = 64)\n",
    "\n",
    "# Get validation data\n",
    "validation = pd.DataFrame(np.load(\"../data/createdData/npyFiles/preprocessedChunk12.npy\")).sample(frac=0.1)\n",
    "\n",
    "X_validate = validation.iloc[:, :-1].to_numpy().astype(np.int8)\n",
    "y_validate = validation.iloc[:, -1].to_numpy()\n",
    "\n",
    "del(validation)"
   ]
  },
  {
   "cell_type": "code",
   "execution_count": 5,
   "metadata": {},
   "outputs": [
    {
     "name": "stdout",
     "output_type": "stream",
     "text": [
      "Epoch 1/3\n",
      "187500/187500 [==============================] - 1169s 6ms/step - loss: 153710.8906 - mean_absolute_error: 231.3726 - val_loss: 147768.1719 - val_mean_absolute_error: 229.6901\n",
      "Epoch 2/3\n",
      "187500/187500 [==============================] - 1123s 6ms/step - loss: 130758.2109 - mean_absolute_error: 214.9702 - val_loss: 137320.4219 - val_mean_absolute_error: 221.9559\n",
      "Epoch 3/3\n",
      "187500/187500 [==============================] - 1122s 6ms/step - loss: 123768.5703 - mean_absolute_error: 209.3237 - val_loss: 136901.7188 - val_mean_absolute_error: 219.9239\n"
     ]
    }
   ],
   "source": [
    "early_stopping = EarlyStopping(monitor='val_loss', patience=5, restore_best_weights=True)\n",
    "\n",
    "history = model.fit(data, epochs=3, validation_data=(X_validate, y_validate), callbacks=[early_stopping])"
   ]
  },
  {
   "cell_type": "code",
   "execution_count": 7,
   "metadata": {},
   "outputs": [
    {
     "name": "stderr",
     "output_type": "stream",
     "text": [
      "WARNING:absl:Found untraced functions such as _jit_compiled_convolution_op, _jit_compiled_convolution_op while saving (showing 2 of 2). These functions will not be directly callable after loading.\n"
     ]
    },
    {
     "name": "stdout",
     "output_type": "stream",
     "text": [
      "INFO:tensorflow:Assets written to: ../saved_models/corrected_12mil_3epoch_64batch_0.0001learnRate\\assets\n"
     ]
    },
    {
     "name": "stderr",
     "output_type": "stream",
     "text": [
      "INFO:tensorflow:Assets written to: ../saved_models/corrected_12mil_3epoch_64batch_0.0001learnRate\\assets\n"
     ]
    }
   ],
   "source": [
    "model.save(\"../saved_models/corrected_12mil_3epoch_64batch_0.0001learnRate\")"
   ]
  },
  {
   "attachments": {},
   "cell_type": "markdown",
   "metadata": {},
   "source": [
    "# Continue Training\n",
    "\n",
    "For overnight training 5/3/23"
   ]
  },
  {
   "cell_type": "code",
   "execution_count": 4,
   "metadata": {},
   "outputs": [
    {
     "name": "stdout",
     "output_type": "stream",
     "text": [
      "Epoch 1/22\n",
      "    13/187500 [..............................] - ETA: 53:45:46 - loss: 159230.3594 - mean_absolute_error: 254.9128"
     ]
    }
   ],
   "source": [
    "model = tf.keras.models.load_model(\"../saved_models/corrected_12mil_3epoch_64batch_0.0001learnRate\")\n",
    "\n",
    "early_stopping = EarlyStopping(monitor='val_loss', patience=5, restore_best_weights=True)\n",
    "\n",
    "history = model.fit(data, epochs=22, validation_data=(X_validate, y_validate), callbacks=[early_stopping])\n",
    "\n",
    "model.save(\"../saved_models/corrected_12mil_25epoch_64batch_0.0001learnRate\")"
   ]
  }
 ],
 "metadata": {
  "kernelspec": {
   "display_name": "tf",
   "language": "python",
   "name": "python3"
  },
  "language_info": {
   "codemirror_mode": {
    "name": "ipython",
    "version": 3
   },
   "file_extension": ".py",
   "mimetype": "text/x-python",
   "name": "python",
   "nbconvert_exporter": "python",
   "pygments_lexer": "ipython3",
   "version": "3.9.16"
  },
  "orig_nbformat": 4
 },
 "nbformat": 4,
 "nbformat_minor": 2
}
