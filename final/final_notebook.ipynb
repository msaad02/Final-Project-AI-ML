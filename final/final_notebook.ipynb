{
 "cells": [
  {
   "attachments": {},
   "cell_type": "markdown",
   "metadata": {},
   "source": [
    "## Imports"
   ]
  },
  {
   "cell_type": "code",
   "execution_count": 8,
   "metadata": {},
   "outputs": [],
   "source": [
    "import numpy as np\n",
    "import tensorflow as tf\n",
    "import pandas as pd\n",
    "from tensorflow.python.keras.callbacks import EarlyStopping"
   ]
  },
  {
   "attachments": {},
   "cell_type": "markdown",
   "metadata": {},
   "source": [
    "# training.py\n",
    "\n",
    "Contains code from relevant file"
   ]
  },
  {
   "cell_type": "code",
   "execution_count": 9,
   "metadata": {},
   "outputs": [],
   "source": [
    "# Define the neural network architecture\n",
    "model = tf.keras.Sequential([\n",
    "    tf.keras.layers.Reshape((8, 8, 13), input_shape=(832,)),\n",
    "    tf.keras.layers.Conv2D(32, (3, 3), activation='relu', padding='same'),\n",
    "    tf.keras.layers.BatchNormalization(),\n",
    "    tf.keras.layers.MaxPooling2D((2, 2)),\n",
    "    tf.keras.layers.Conv2D(64, (3, 3), activation='relu', padding='same'),\n",
    "    tf.keras.layers.BatchNormalization(),\n",
    "    tf.keras.layers.MaxPooling2D((2, 2)),\n",
    "    tf.keras.layers.Flatten(),\n",
    "    tf.keras.layers.Dense(128, activation='relu'),\n",
    "    tf.keras.layers.Dropout(0.5),\n",
    "    tf.keras.layers.Dense(64, activation='relu'),\n",
    "    tf.keras.layers.Dense(1, activation='linear')\n",
    "])\n",
    "\n",
    "# Compile the model\n",
    "optimizer = tf.keras.optimizers.Adam(learning_rate=0.0001)  # Try different learning rates\n",
    "model.compile(optimizer=optimizer, loss='MeanSquaredError', metrics=['MeanAbsoluteError'])"
   ]
  },
  {
   "attachments": {},
   "cell_type": "markdown",
   "metadata": {},
   "source": [
    "# Data Loader\n",
    "\n",
    "So we can use big dataset"
   ]
  },
  {
   "cell_type": "code",
   "execution_count": 10,
   "metadata": {},
   "outputs": [],
   "source": [
    "class DataSequence(tf.keras.utils.Sequence):\n",
    "    \n",
    "    def __init__(self, files, batch_size):\n",
    "        self.files = files\n",
    "        self.batch_size = batch_size\n",
    "        file_lengths = [len(np.load(f)) for f in files]\n",
    "        self.total_length = sum(file_lengths)\n",
    "        self.cumulative_lengths = np.cumsum([0] + file_lengths)\n",
    "        self.file_num = 0\n",
    "        self.file_cache = pd.DataFrame(np.load(self.files[self.file_num])).sample(frac=1)\n",
    "\n",
    "    def __len__(self):\n",
    "        return int(np.ceil(self.total_length) / self.batch_size)\n",
    "    \n",
    "    def __getitem__(self, idx):\n",
    "        # Start and end lengths of batch\n",
    "        global_start = idx * self.batch_size\n",
    "        global_end = global_start + self.batch_size\n",
    "\n",
    "        # Get global bounds of current file\n",
    "        fileLowerBound, fileUpperBound = self.cumulative_lengths[self.file_num], self.cumulative_lengths[self.file_num + 1]\n",
    "\n",
    "        # check that the global_start and global_end are within the bounds of the current  file\n",
    "\n",
    "        # If not, then enter this. Here, we fetch the next file.\n",
    "        if global_start < fileLowerBound or  global_end > fileUpperBound:\n",
    "            self.file_num  += 1\n",
    "            self.file_cache = pd.DataFrame(np.load(self.files[self.file_num]), dtype=np.int16).sample(frac=1)\n",
    "\n",
    "            fileLowerBound, fileUpperBound = self.cumulative_lengths[self.file_num], self.cumulative_lengths[self.file_num + 1]\n",
    "\n",
    "        local_start = global_start - fileLowerBound\n",
    "        local_end = local_start + self.batch_size\n",
    "        data = self.file_cache.iloc[local_start:local_end]\n",
    "\n",
    "        x = data.iloc[:, :-1].to_numpy().astype(np.int8)\n",
    "        y = data.iloc[:, -1].to_numpy().astype(np.int16)\n",
    "\n",
    "        return (x, y)"
   ]
  },
  {
   "attachments": {},
   "cell_type": "markdown",
   "metadata": {},
   "source": [
    "### Fitting Model\n",
    "\n",
    "Need to rerun the processedDataset, such that the evaluations are correct."
   ]
  },
  {
   "cell_type": "code",
   "execution_count": 23,
   "metadata": {},
   "outputs": [],
   "source": [
    "files = ['../data/createdData/npyFiles/preprocessedChunk' + str(num) +'.npy' for num in np.arange(2)]\n",
    "\n",
    "# Make the DataSequence object to pass data to model\n",
    "data = DataSequence(files, batch_size = 1028)\n",
    "\n",
    "# Get validation data\n",
    "validation = pd.DataFrame(np.load(\"../data/createdData/npyFiles/preprocessedChunk12.npy\")).sample(frac=1)\n",
    "\n",
    "X_validate = validation.iloc[:, :-1].to_numpy().astype(np.int8)\n",
    "y_validate = validation.iloc[:, -1].to_numpy().astype(np.int16)\n",
    "\n",
    "del(validation)"
   ]
  },
  {
   "cell_type": "code",
   "execution_count": null,
   "metadata": {},
   "outputs": [],
   "source": [
    "early_stopping = EarlyStopping(monitor='val_loss', patience=5, restore_best_weights=True)\n",
    "\n",
    "history = model.fit(data, epochs=3, validation_data=(X_validate, y_validate), callbacks=[early_stopping], shuffle = False)"
   ]
  },
  {
   "attachments": {},
   "cell_type": "markdown",
   "metadata": {},
   "source": []
  },
  {
   "cell_type": "code",
   "execution_count": null,
   "metadata": {},
   "outputs": [
    {
     "name": "stderr",
     "output_type": "stream",
     "text": [
      "WARNING:absl:Found untraced functions such as _jit_compiled_convolution_op, _jit_compiled_convolution_op while saving (showing 2 of 2). These functions will not be directly callable after loading.\n"
     ]
    },
    {
     "name": "stdout",
     "output_type": "stream",
     "text": [
      "INFO:tensorflow:Assets written to: ../saved_models/corrected_12mil_3epoch_64batch_0.0001learnRate\\assets\n"
     ]
    },
    {
     "name": "stderr",
     "output_type": "stream",
     "text": [
      "INFO:tensorflow:Assets written to: ../saved_models/corrected_12mil_3epoch_64batch_0.0001learnRate\\assets\n"
     ]
    }
   ],
   "source": [
    "model.save(\"../saved_models/corrected_12mil_3epoch_64batch_0.0001learnRate\")"
   ]
  },
  {
   "attachments": {},
   "cell_type": "markdown",
   "metadata": {},
   "source": [
    "# Continue Training\n",
    "\n",
    "For overnight training 5/3/23"
   ]
  },
  {
   "cell_type": "code",
   "execution_count": null,
   "metadata": {},
   "outputs": [
    {
     "name": "stdout",
     "output_type": "stream",
     "text": [
      "Epoch 1/22\n",
      "187500/187500 [==============================] - 1278s 7ms/step - loss: 119853.6016 - mean_absolute_error: 205.9855 - val_loss: 137172.6719 - val_mean_absolute_error: 223.9420\n",
      "Epoch 2/22\n",
      "187500/187500 [==============================] - 1283s 7ms/step - loss: 116988.2188 - mean_absolute_error: 203.4433 - val_loss: 138555.7656 - val_mean_absolute_error: 220.7535\n",
      "Epoch 3/22\n",
      "187500/187500 [==============================] - 1212s 6ms/step - loss: 114721.7422 - mean_absolute_error: 201.1932 - val_loss: 137669.5000 - val_mean_absolute_error: 219.6468\n",
      "Epoch 4/22\n",
      "187500/187500 [==============================] - 1207s 6ms/step - loss: 112889.5938 - mean_absolute_error: 199.4048 - val_loss: 136778.6875 - val_mean_absolute_error: 220.1227\n",
      "Epoch 5/22\n",
      "187500/187500 [==============================] - 1216s 6ms/step - loss: 111394.1484 - mean_absolute_error: 197.8296 - val_loss: 140556.4688 - val_mean_absolute_error: 224.6196\n",
      "Epoch 6/22\n",
      "187500/187500 [==============================] - 1217s 6ms/step - loss: 110056.7344 - mean_absolute_error: 196.4616 - val_loss: 140536.7500 - val_mean_absolute_error: 220.6116\n",
      "Epoch 7/22\n",
      "187500/187500 [==============================] - 1219s 7ms/step - loss: 108878.9766 - mean_absolute_error: 195.1931 - val_loss: 134984.6719 - val_mean_absolute_error: 216.2327\n",
      "Epoch 8/22\n",
      "187500/187500 [==============================] - 1214s 6ms/step - loss: 107785.8281 - mean_absolute_error: 194.0654 - val_loss: 130863.7891 - val_mean_absolute_error: 215.2287\n",
      "Epoch 9/22\n",
      "187500/187500 [==============================] - 1211s 6ms/step - loss: 106786.3672 - mean_absolute_error: 192.9536 - val_loss: 129747.9922 - val_mean_absolute_error: 213.7781\n",
      "Epoch 10/22\n",
      "187500/187500 [==============================] - 1213s 6ms/step - loss: 105941.3359 - mean_absolute_error: 192.0662 - val_loss: 131575.8281 - val_mean_absolute_error: 215.2759\n",
      "Epoch 11/22\n",
      "187500/187500 [==============================] - 1235s 7ms/step - loss: 105245.1875 - mean_absolute_error: 191.2452 - val_loss: 131922.7656 - val_mean_absolute_error: 213.5442\n",
      "Epoch 12/22\n",
      "187500/187500 [==============================] - 1211s 6ms/step - loss: 104442.8047 - mean_absolute_error: 190.4007 - val_loss: 130923.9141 - val_mean_absolute_error: 214.0584\n",
      "Epoch 13/22\n",
      "187500/187500 [==============================] - 1218s 6ms/step - loss: 103659.0703 - mean_absolute_error: 189.6569 - val_loss: 128725.8125 - val_mean_absolute_error: 212.2075\n",
      "Epoch 14/22\n",
      "187500/187500 [==============================] - 1213s 6ms/step - loss: 103118.1562 - mean_absolute_error: 188.9706 - val_loss: 128240.9922 - val_mean_absolute_error: 212.8371\n",
      "Epoch 15/22\n",
      "187500/187500 [==============================] - 1210s 6ms/step - loss: 102477.2656 - mean_absolute_error: 188.3123 - val_loss: 133748.5469 - val_mean_absolute_error: 212.7336\n",
      "Epoch 16/22\n",
      "187500/187500 [==============================] - 1218s 6ms/step - loss: 101978.0156 - mean_absolute_error: 187.8083 - val_loss: 128426.1094 - val_mean_absolute_error: 210.5244\n",
      "Epoch 17/22\n",
      "187500/187500 [==============================] - 1216s 6ms/step - loss: 101370.4531 - mean_absolute_error: 187.1585 - val_loss: 139447.5156 - val_mean_absolute_error: 219.7643\n",
      "Epoch 18/22\n",
      "187500/187500 [==============================] - 1211s 6ms/step - loss: 100888.4141 - mean_absolute_error: 186.5562 - val_loss: 127067.0000 - val_mean_absolute_error: 209.6930\n",
      "Epoch 19/22\n",
      "187500/187500 [==============================] - 1217s 6ms/step - loss: 100375.8906 - mean_absolute_error: 186.1094 - val_loss: 128394.6953 - val_mean_absolute_error: 210.5196\n",
      "Epoch 20/22\n",
      "187500/187500 [==============================] - 1210s 6ms/step - loss: 99836.1250 - mean_absolute_error: 185.6000 - val_loss: 129432.0547 - val_mean_absolute_error: 211.7673\n",
      "Epoch 21/22\n",
      "187500/187500 [==============================] - 1290s 7ms/step - loss: 99405.1719 - mean_absolute_error: 185.0891 - val_loss: 137170.7188 - val_mean_absolute_error: 217.7843\n",
      "Epoch 22/22\n",
      "187500/187500 [==============================] - 1282s 7ms/step - loss: 98997.4609 - mean_absolute_error: 184.6261 - val_loss: 126735.6562 - val_mean_absolute_error: 210.0484\n"
     ]
    },
    {
     "name": "stderr",
     "output_type": "stream",
     "text": [
      "WARNING:absl:Found untraced functions such as _jit_compiled_convolution_op, _jit_compiled_convolution_op while saving (showing 2 of 2). These functions will not be directly callable after loading.\n"
     ]
    },
    {
     "name": "stdout",
     "output_type": "stream",
     "text": [
      "INFO:tensorflow:Assets written to: ../saved_models/corrected_12mil_25epoch_64batch_0.0001learnRate\\assets\n"
     ]
    },
    {
     "name": "stderr",
     "output_type": "stream",
     "text": [
      "INFO:tensorflow:Assets written to: ../saved_models/corrected_12mil_25epoch_64batch_0.0001learnRate\\assets\n"
     ]
    }
   ],
   "source": [
    "model = tf.keras.models.load_model(\"../saved_models/corrected_12mil_3epoch_64batch_0.0001learnRate\")\n",
    "\n",
    "early_stopping = EarlyStopping(monitor='val_loss', patience=5, restore_best_weights=True)\n",
    "\n",
    "history = model.fit(data, epochs=22, validation_data=(X_validate, y_validate), callbacks=[early_stopping])\n",
    "\n",
    "model.save(\"../saved_models/corrected_12mil_25epoch_64batch_0.0001learnRate\")"
   ]
  }
 ],
 "metadata": {
  "kernelspec": {
   "display_name": "tf",
   "language": "python",
   "name": "python3"
  },
  "language_info": {
   "codemirror_mode": {
    "name": "ipython",
    "version": 3
   },
   "file_extension": ".py",
   "mimetype": "text/x-python",
   "name": "python",
   "nbconvert_exporter": "python",
   "pygments_lexer": "ipython3",
   "version": "3.9.16"
  },
  "orig_nbformat": 4
 },
 "nbformat": 4,
 "nbformat_minor": 2
}
