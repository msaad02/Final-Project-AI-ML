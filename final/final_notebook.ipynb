{
 "cells": [
  {
   "attachments": {},
   "cell_type": "markdown",
   "metadata": {},
   "source": [
    "## Imports"
   ]
  },
  {
   "cell_type": "code",
   "execution_count": 5,
   "metadata": {},
   "outputs": [],
   "source": [
    "import numpy as np\n",
    "import tensorflow as tf\n",
    "import pandas as pd\n",
    "from tensorflow.python.keras.callbacks import EarlyStopping"
   ]
  },
  {
   "attachments": {},
   "cell_type": "markdown",
   "metadata": {},
   "source": [
    "# training.py\n",
    "\n",
    "Contains code from relevant file"
   ]
  },
  {
   "cell_type": "code",
   "execution_count": 6,
   "metadata": {},
   "outputs": [],
   "source": [
    "# Define the neural network architecture\n",
    "model = tf.keras.Sequential([\n",
    "    tf.keras.layers.Reshape((8, 8, 13), input_shape=(832,)),\n",
    "    tf.keras.layers.Conv2D(32, (3, 3), activation='relu', padding='same'),\n",
    "    tf.keras.layers.BatchNormalization(),\n",
    "    tf.keras.layers.MaxPooling2D((2, 2)),\n",
    "    tf.keras.layers.Conv2D(64, (3, 3), activation='relu', padding='same'),\n",
    "    tf.keras.layers.BatchNormalization(),\n",
    "    tf.keras.layers.MaxPooling2D((2, 2)),\n",
    "    tf.keras.layers.Flatten(),\n",
    "    tf.keras.layers.Dense(128, activation='relu'),\n",
    "    tf.keras.layers.Dropout(0.5),\n",
    "    tf.keras.layers.Dense(64, activation='relu'),\n",
    "    tf.keras.layers.Dense(1, activation='linear')\n",
    "])\n",
    "\n",
    "# Compile the model\n",
    "optimizer = tf.keras.optimizers.Adam(learning_rate=0.001)  # Try different learning rates\n",
    "model.compile(optimizer=optimizer, loss='MeanSquaredError', metrics=['MeanAbsoluteError'])"
   ]
  },
  {
   "attachments": {},
   "cell_type": "markdown",
   "metadata": {},
   "source": [
    "# Data Loader\n",
    "\n",
    "So we can use big dataset"
   ]
  },
  {
   "cell_type": "code",
   "execution_count": 7,
   "metadata": {},
   "outputs": [],
   "source": [
    "class DataSequence(tf.keras.utils.Sequence):\n",
    "    \n",
    "    def __init__(self, files, batch_size):\n",
    "        self.files = files\n",
    "        self.batch_size = batch_size\n",
    "        file_lengths = [len(np.load(f)) for f in files]\n",
    "        self.total_length = sum(file_lengths)\n",
    "        self.cumulative_lengths = np.cumsum([0] + file_lengths)\n",
    "        self.file_num = 0\n",
    "        self.file_cache = pd.DataFrame(np.load(self.files[self.file_num])).sample(frac=1)\n",
    "\n",
    "    def __len__(self):\n",
    "        return int(np.ceil(self.total_length) / self.batch_size)\n",
    "    \n",
    "    def __getitem__(self, idx):\n",
    "        # Start and end lengths of batch\n",
    "        global_start = idx * self.batch_size\n",
    "        global_end = global_start + self.batch_size\n",
    "\n",
    "        # Get global bounds of current file\n",
    "        fileLowerBound, fileUpperBound = self.cumulative_lengths[self.file_num], self.cumulative_lengths[self.file_num + 1]\n",
    "\n",
    "        # check that the global_start and global_end are within the bounds of the current  file\n",
    "        # print(\"global_start\", global_start, \"LESS THAN fileLowerBound\", fileLowerBound,\"global_end\", global_end, \"GREATER THAN fileUpperBound\", fileUpperBound)\n",
    "\n",
    "        # If not, then enter this. Here, we fetch the next file.\n",
    "        if global_end > fileUpperBound:\n",
    "            self.file_num  += 1\n",
    "            self.file_cache = pd.DataFrame(np.load(self.files[self.file_num]), dtype=np.int16).sample(frac=1)\n",
    "\n",
    "        # Enter this every epoch, or when batch number resets to 0        \n",
    "        if global_start < fileLowerBound and global_start == 0:\n",
    "            self.file_num = 0\n",
    "            self.file_cache = pd.DataFrame(np.load(self.files[self.file_num])).sample(frac=1)\n",
    "\n",
    "        fileLowerBound, fileUpperBound = self.cumulative_lengths[self.file_num], self.cumulative_lengths[self.file_num + 1]\n",
    "\n",
    "        \n",
    "        local_start = global_start - fileLowerBound\n",
    "        local_end = local_start + self.batch_size\n",
    "        data = self.file_cache.iloc[local_start:local_end]\n",
    "\n",
    "        x = data.iloc[:, :-1].to_numpy().astype(np.int8)\n",
    "        y = data.iloc[:, -1].to_numpy().astype(np.int16)\n",
    "\n",
    "        return (x, y)"
   ]
  },
  {
   "attachments": {},
   "cell_type": "markdown",
   "metadata": {},
   "source": [
    "### Fitting Model\n",
    "\n",
    "Need to rerun the processedDataset, such that the evaluations are correct.\n",
    "\n",
    "PARAMETERS BELOW"
   ]
  },
  {
   "cell_type": "code",
   "execution_count": 8,
   "metadata": {
    "tags": []
   },
   "outputs": [],
   "source": [
    "batch_size = 64\n",
    "files = ['./../data/KaggleNPY/mixedDataChunk' + str(num) +'.npy' for num in np.arange(16)]\n",
    "\n",
    "# Make the DataSequence object to pass data to model\n",
    "trainFiles = files[0:14]\n",
    "train = DataSequence(trainFiles, batch_size = batch_size)\n",
    "\n",
    "validFiles = files[14:16]\n",
    "valid = DataSequence(validFiles, batch_size = batch_size)"
   ]
  },
  {
   "cell_type": "code",
   "execution_count": 9,
   "metadata": {},
   "outputs": [
    {
     "name": "stdout",
     "output_type": "stream",
     "text": [
      "Epoch 1/20\n",
      "187496/218750 [========================>.....] - ETA: 2:53 - loss: 761910.8750 - mean_absolute_error: 419.9054"
     ]
    }
   ],
   "source": [
    "early_stopping = EarlyStopping(monitor='val_loss', patience=5, restore_best_weights=True)\n",
    "\n",
    "history = model.fit(train, epochs=20, validation_data = valid, callbacks=[early_stopping], shuffle = False)"
   ]
  },
  {
   "cell_type": "code",
   "execution_count": null,
   "metadata": {},
   "outputs": [],
   "source": [
    "model.save(\"../saved_models/newPreprocess_6mil_3epoch_1028batch_0.01learn\")"
   ]
  },
  {
   "attachments": {},
   "cell_type": "markdown",
   "metadata": {},
   "source": [
    "# Continue Training\n",
    "\n",
    "For overnight training 5/3/23"
   ]
  },
  {
   "cell_type": "code",
   "execution_count": null,
   "metadata": {
    "tags": []
   },
   "outputs": [],
   "source": [
    "model = tf.keras.models.load_model(\"../saved_models/corrected_12mil_3epoch_64batch_0.0001learnRate\")\n",
    "\n",
    "early_stopping = EarlyStopping(monitor='val_loss', patience=5, restore_best_weights=True)\n",
    "\n",
    "history = model.fit(train, epochs=22, validation_data = valid, callbacks=[early_stopping])\n",
    "\n",
    "model.save(\"../saved_models/corrected_12mil_25epoch_64batch_0.0001learnRate\")"
   ]
  }
 ],
 "metadata": {
  "kernelspec": {
   "display_name": "tf",
   "language": "python",
   "name": "python3"
  },
  "language_info": {
   "codemirror_mode": {
    "name": "ipython",
    "version": 3
   },
   "file_extension": ".py",
   "mimetype": "text/x-python",
   "name": "python",
   "nbconvert_exporter": "python",
   "pygments_lexer": "ipython3",
   "version": "3.9.16"
  },
  "orig_nbformat": 4
 },
 "nbformat": 4,
 "nbformat_minor": 2
}
