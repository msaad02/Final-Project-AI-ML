{
 "cells": [
  {
   "cell_type": "code",
   "execution_count": 12,
   "metadata": {},
   "outputs": [],
   "source": [
    "import re\n",
    "import numpy as np\n",
    "import pandas as pd\n",
    "import tensorflow as tf\n",
    "from sklearn.model_selection import train_test_split"
   ]
  },
  {
   "attachments": {},
   "cell_type": "markdown",
   "metadata": {},
   "source": [
    "# Vectorize Function\n",
    "\n",
    "This function takes in a FEN string and outputs 13 8x8 arrays to represent the FEN string as bits"
   ]
  },
  {
   "cell_type": "code",
   "execution_count": 13,
   "metadata": {},
   "outputs": [],
   "source": [
    "def vectorize(fen):\n",
    "    data = re.split(\" \", fen)\n",
    "    rows= re.split(\"/\", data[0])\n",
    "    turn = data[1]\n",
    "    can_castle = data[2]\n",
    "    passant = data[3]\n",
    "    half_moves = data[4]\n",
    "    full_moves = data[5]\n",
    "    \n",
    "    bit_vector = np.zeros((13, 8, 8), dtype=np.uint8)\n",
    "    #what layer each piece is found on\n",
    "    piece_to_layer = {\n",
    "            'R': 1,\n",
    "            'N': 2,\n",
    "            'B': 3,\n",
    "            'Q': 4,\n",
    "            'K': 5,\n",
    "            'P': 6,\n",
    "            'p': 7,\n",
    "            'k': 8,\n",
    "            'q': 9,\n",
    "            'b': 10,\n",
    "            'n': 11,\n",
    "            'r': 12\n",
    "        }\n",
    "    #find each piece based on type\n",
    "    for r,value in enumerate(rows):\n",
    "        colum = 0\n",
    "        for piece in value:\n",
    "            if piece in piece_to_layer:\n",
    "                bit_vector[piece_to_layer[piece],r,colum] =1\n",
    "                colum += 1\n",
    "            else:\n",
    "                colum += int(piece)\n",
    "    \n",
    "    if turn.lower() == 'w':\n",
    "        bit_vector [0,7,4] =1\n",
    "    else:\n",
    "        bit_vector [0,0,4] =1\n",
    "        \n",
    "    #where each castle bit is located\n",
    "    castle ={\n",
    "        'k': (0,0),\n",
    "        'q': (0,7),\n",
    "        'K': (7,0),\n",
    "        'Q': (7,7),\n",
    "        }\n",
    "\n",
    "    for value in can_castle:\n",
    "        if value in castle:\n",
    "            bit_vector[0,castle[value][0],castle[value][1]] = 1\n",
    "    \n",
    "    #put en-passant square in the vector\n",
    "    if passant != '-':\n",
    "        bit_vector[0,  5 if (int(passant[1])-1 == 3) else 2 , ord(passant[0]) - 97,] = 1\n",
    "        \n",
    "    return bit_vector\n",
    "\n",
    "# print(vectorize(r'rnbqkb1r/ppp1pppp/3p4/3nP3/3P4/8/PPPK1PPP/RNBQ1BNR b kq - 1 4')[0])\n",
    "# print(vectorize(r'r3r1k1/pppq2bp/3pp1p1/3P4/2PpP3/6P1/PP1N2K1/R1BQR3 b - e3 0 19')[0])"
   ]
  },
  {
   "cell_type": "code",
   "execution_count": 14,
   "metadata": {},
   "outputs": [],
   "source": [
    "# Expects data frame with 1 column \"FEN\", and another \"Evaluation\"\n",
    "def split_and_reshape(x, y, random, train_size):\n",
    "    x_train, x_test, y_train, y_test = train_test_split(x, y, random_state=random, train_size = train_size)\n",
    "    \n",
    "    # reshape so we can enter this into the model\n",
    "    x_train = x_train.reshape(len(x_train), 832)\n",
    "    x_test = x_test.reshape(len(x_test), 832)\n",
    "\n",
    "    return x_train, x_test, y_train, y_test"
   ]
  },
  {
   "cell_type": "code",
   "execution_count": 15,
   "metadata": {},
   "outputs": [],
   "source": [
    "def getModel():\n",
    "    # Define the neural network architecture\n",
    "    model = tf.keras.Sequential([\n",
    "        #tf.keras.layers.Flatten(input_shape=(13, 8, 8)),\n",
    "        tf.keras.layers.Dense(832, activation='relu'),\n",
    "        tf.keras.layers.Dense(400, activation='relu'),\n",
    "        tf.keras.layers.Dense(200, activation='relu'),\n",
    "        tf.keras.layers.Dense(128, activation='relu'),\n",
    "        tf.keras.layers.Dense(1, activation='linear')\n",
    "    ])\n",
    "\n",
    "    # Compile the model\n",
    "    model.compile(optimizer='RMSprop',\n",
    "        loss='MeanSquaredError',\n",
    "        metrics=['accuracy'])\n",
    "    \n",
    "    return model"
   ]
  },
  {
   "cell_type": "code",
   "execution_count": 16,
   "metadata": {},
   "outputs": [],
   "source": [
    "def train_neural_network(FEN, Evaluation):\n",
    "    # Define the neural network architecture    \n",
    "    model = getModel()\n",
    "\n",
    "    ## Get training and testing data\n",
    "    x_train, x_test, y_train, y_test = split_and_reshape(FEN, Evaluation, random=0, train_size = .75)\n",
    "\n",
    "    # Train the model\n",
    "    model.fit(x_train, y_train, epochs=10, batch_size=128)\n",
    "\n",
    "    # Evaluate the model on the test data\n",
    "    loss, accuracy = model.evaluate(x_test, y_test)\n",
    "\n",
    "    # Print the evaluation metrics\n",
    "    print(f\"Test loss: {loss:.4f}\")\n",
    "    print(f\"Test accuracy: {accuracy:.4f}\")\n",
    "\n",
    "    return model"
   ]
  },
  {
   "attachments": {},
   "cell_type": "markdown",
   "metadata": {},
   "source": [
    "## Handling Weird Evaluation Scores\n",
    "\n",
    "Some are like \"#+6\", or even stranger like \"\\ufeff23\". Want them all to be +/- integers"
   ]
  },
  {
   "cell_type": "code",
   "execution_count": 17,
   "metadata": {},
   "outputs": [],
   "source": [
    "# This is to handle weird cases in Evaluation such as \"#+6\", or \"\\ufeff23\"\n",
    "def parse_evaluation(value):\n",
    "    if isinstance(value, str):\n",
    "        value = re.sub(r'[^0-9+\\-]', '', value)  # Remove anything that's not a digit or '+' or '-'\n",
    "        return int(value.replace('-', '')) * (-1 if '-' in value else 1)\n",
    "    return value\n",
    "\n",
    "# Apply the parsing function to the 'Evaluation' column\n",
    "# dfcopy['Evaluation'] =  dfcopy['Evaluation'].apply(parse_evaluation)"
   ]
  },
  {
   "cell_type": "code",
   "execution_count": 18,
   "metadata": {},
   "outputs": [],
   "source": [
    "def preprocess_scores(scores):\n",
    "    #sets all scores within -150 to 150\n",
    "    #mate scores are set to +-151\n",
    "    for i, score in enumerate(scores):\n",
    "        if score[0:2] == '#+':\n",
    "            scores[i] = 151\n",
    "        elif score[0:2] == '#-':\n",
    "            scores[i] = -151\n",
    "        elif int(score) > 150:\n",
    "            scores[i] = 150\n",
    "        elif int(score) < -150:\n",
    "            scores[i] = -150\n",
    "        else:\n",
    "            scores[i] = int(score)\n",
    "    #scale between 0 and 1\n",
    "    scores += 150\n",
    "    scores /= 300\n",
    "    scores = scores.astype('float32')\n",
    "    return scores"
   ]
  },
  {
   "attachments": {},
   "cell_type": "markdown",
   "metadata": {},
   "source": [
    "# Try making the neural network\n",
    "\n",
    "Hasn't worked so far"
   ]
  },
  {
   "cell_type": "code",
   "execution_count": 25,
   "metadata": {},
   "outputs": [
    {
     "name": "stdout",
     "output_type": "stream",
     "text": [
      "Epoch 1/10\n",
      "293/293 [==============================] - 5s 13ms/step - loss: 0.0850 - accuracy: 0.2746\n",
      "Epoch 2/10\n",
      "293/293 [==============================] - 5s 16ms/step - loss: 0.0255 - accuracy: 0.3190\n",
      "Epoch 3/10\n",
      "293/293 [==============================] - 5s 18ms/step - loss: 0.0155 - accuracy: 0.3211\n",
      "Epoch 4/10\n",
      "293/293 [==============================] - 6s 21ms/step - loss: 0.0113 - accuracy: 0.3216\n",
      "Epoch 5/10\n",
      "293/293 [==============================] - 6s 20ms/step - loss: 0.0085 - accuracy: 0.3219\n",
      "Epoch 6/10\n",
      "293/293 [==============================] - 4s 13ms/step - loss: 0.0068 - accuracy: 0.3220\n",
      "Epoch 7/10\n",
      "293/293 [==============================] - 4s 14ms/step - loss: 0.0057 - accuracy: 0.3219\n",
      "Epoch 8/10\n",
      "293/293 [==============================] - 4s 13ms/step - loss: 0.0049 - accuracy: 0.3220\n",
      "Epoch 9/10\n",
      "293/293 [==============================] - 4s 13ms/step - loss: 0.0042 - accuracy: 0.3221\n",
      "Epoch 10/10\n",
      "293/293 [==============================] - 4s 13ms/step - loss: 0.0038 - accuracy: 0.3221\n",
      "391/391 [==============================] - 2s 4ms/step - loss: 0.0122 - accuracy: 0.3107\n",
      "Test loss: 0.0122\n",
      "Test accuracy: 0.3107\n"
     ]
    }
   ],
   "source": [
    "nrows = 50_000\n",
    "\n",
    "df = pd.read_csv('../data/kaggleDataset/chessData.csv', nrows=nrows, dtype={'FEN':str, 'Evaluation':str})\n",
    "\n",
    "positions = np.ndarray(shape=(nrows,13,8,8))\n",
    "for i, f in enumerate(df.FEN):\n",
    "    positions[i] = vectorize(f)\n",
    "\n",
    "scores = preprocess_scores(df.Evaluation.to_numpy())\n",
    "\n",
    "x_train, x_test, y_train, y_test = train_test_split(positions, scores, random_state=0, train_size = .75)\n",
    "\n",
    "\n",
    "model = train_neural_network(positions, scores)"
   ]
  }
 ],
 "metadata": {
  "kernelspec": {
   "display_name": "tf",
   "language": "python",
   "name": "python3"
  },
  "language_info": {
   "codemirror_mode": {
    "name": "ipython",
    "version": 3
   },
   "file_extension": ".py",
   "mimetype": "text/x-python",
   "name": "python",
   "nbconvert_exporter": "python",
   "pygments_lexer": "ipython3",
   "version": "3.10.10"
  },
  "orig_nbformat": 4
 },
 "nbformat": 4,
 "nbformat_minor": 2
}
